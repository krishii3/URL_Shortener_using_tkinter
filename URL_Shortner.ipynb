{
 "cells": [
  {
   "cell_type": "code",
   "execution_count": 3,
   "metadata": {},
   "outputs": [
    {
     "name": "stdout",
     "output_type": "stream",
     "text": [
      "Collecting clipboard\n",
      "  Downloading clipboard-0.0.4.tar.gz (1.7 kB)\n",
      "Collecting pyperclip>=1.3\n",
      "  Downloading pyperclip-1.8.0.tar.gz (16 kB)\n",
      "Building wheels for collected packages: clipboard, pyperclip\n",
      "  Building wheel for clipboard (setup.py): started\n",
      "  Building wheel for clipboard (setup.py): finished with status 'done'\n",
      "  Created wheel for clipboard: filename=clipboard-0.0.4-py3-none-any.whl size=1854 sha256=d5768cea1e63b5260f21f4052906ea35d95c356ffec4dd70572dd2403d1e000d\n",
      "  Stored in directory: c:\\users\\mridu\\appdata\\local\\pip\\cache\\wheels\\de\\bc\\35\\fe31f0f559f65513fb90922017715133ed34d148f8eff157f4\n",
      "  Building wheel for pyperclip (setup.py): started\n",
      "  Building wheel for pyperclip (setup.py): finished with status 'done'\n",
      "  Created wheel for pyperclip: filename=pyperclip-1.8.0-py3-none-any.whl size=8696 sha256=61777c3a7fd11c79d195eecddf97f39dcba28def4a9077e29c6758214a7723ad\n",
      "  Stored in directory: c:\\users\\mridu\\appdata\\local\\pip\\cache\\wheels\\03\\79\\58\\ab51f0f590281b0f4f6046d9271eb98cc50565afb9200f155a\n",
      "Successfully built clipboard pyperclip\n",
      "Installing collected packages: pyperclip, clipboard\n",
      "Successfully installed clipboard-0.0.4 pyperclip-1.8.0\n"
     ]
    }
   ],
   "source": [
    "#installing important libraries\n",
    "\n",
    "!pip install clipboard\n",
    "!pip install pyshorteners"
   ]
  },
  {
   "cell_type": "code",
   "execution_count": 56,
   "metadata": {},
   "outputs": [],
   "source": [
    "from tkinter import *\n",
    "import pyshorteners\n",
    "import clipboard\n",
    "\n",
    "\n",
    "window = Tk()\n",
    "\n",
    "#set deafault window size\n",
    "window.geometry(\"500x250\") # width x height\n",
    "\n",
    "# make window not resizable \n",
    "window.resizable(False,False)  # not resizable in x and y \n",
    "\n",
    "# app title\n",
    "window.title(\"URL Chota Karne Ki Python Technique\")\n",
    "\n",
    "window.configure(bg='#015788')\n",
    "\n",
    "\n",
    "\n",
    "# url entry\n",
    "url_input = Entry(window, font=(\"Helvetica\",\"16\"),width=35)\n",
    "url_input.grid(row=5, column=3,pady=10,padx=10)\n",
    "\n",
    "\n",
    "#label shortened url\n",
    "str_url = StringVar(window)\n",
    "\n",
    "shortened_url = Label(window, textvariable=str_url, font=(\"Helvetica\",\"16\"), fg=\"#fff\", bg=\"#1abc9c\")\n",
    "shortened_url.grid(row=10, column=3,pady=10)\n",
    "\n",
    "\n",
    "# copy short url function\n",
    "def copy_short_url():\n",
    "  try:\n",
    "    clipboard.copy(str_url.get())\n",
    "    print(\"Url copied successfully !!\")\n",
    "  except:\n",
    "    str_url.set(\"Something wrong try again !!\")\n",
    "\n",
    "# Copy short url button\n",
    "copy_btn = Button(window, text=\"Copy\", bg=\"#34495e\", fg=\"#fff\", font=(\"Helvetica\",\"12\"), command=copy_short_url)\n",
    "copy_btn.grid(row=3, column=3, pady=10, padx=10)\n",
    "\n",
    "\n",
    "\n",
    "#short url function\n",
    "def short_url():\n",
    "  try:\n",
    "    s = pyshorteners.Shortener()\n",
    "    url = url_input.get()\n",
    "    final_result = s.tinyurl.short(url)\n",
    "    str_url.set(final_result)\n",
    "    url_input.delete(0, END) # clear input \n",
    "  except:\n",
    "    str_url.set(\"Enter url please !! \")\n",
    "\n",
    "\n",
    "#click button to short url\n",
    "btn = Button(window, text=\"Short Url\", padx=8, pady=10, bg=\"#2ecc71\", fg=\"#fff\", font=(\"Helvetica\",\"16\"), activebackground=\"#16a085\", command=short_url)\n",
    "btn.grid(row=9, column=3)\n",
    "\n",
    "window.mainloop()\n",
    "\n"
   ]
  }
 ],
 "metadata": {
  "kernelspec": {
   "display_name": "Python 3",
   "language": "python",
   "name": "python3"
  },
  "language_info": {
   "codemirror_mode": {
    "name": "ipython",
    "version": 3
   },
   "file_extension": ".py",
   "mimetype": "text/x-python",
   "name": "python",
   "nbconvert_exporter": "python",
   "pygments_lexer": "ipython3",
   "version": "3.8.3"
  }
 },
 "nbformat": 4,
 "nbformat_minor": 4
}
